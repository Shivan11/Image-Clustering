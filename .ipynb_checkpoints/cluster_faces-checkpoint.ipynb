{
 "cells": [
  {
   "cell_type": "code",
   "execution_count": 1,
   "metadata": {},
   "outputs": [],
   "source": [
    "import numpy as np\n",
    "import pickle\n",
    "import cv2\n",
    "import argparse\n",
    "from sklearn.cluster import DBSCAN\n",
    "from imutils import build_montages"
   ]
  },
  {
   "cell_type": "code",
   "execution_count": 2,
   "metadata": {},
   "outputs": [],
   "source": [
    "ap = argparse.ArgumentParser()\n",
    "ap.add_argument('-e' , '--encodings' , required = True , help = 'path to serialized encodings')\n",
    "ap.add_argument('-j' , '--jobs' , type = int , default = -1 , help = '# Number of jobs to run, -1 will use all CPUs')\n",
    "#args = vars(ap.parse_args())\n",
    "args = {}\n",
    "args['encodings'] = '/home/shivannawal/Face-Clustering/encodings.pickle'\n",
    "args['jobs'] = 2"
   ]
  },
  {
   "cell_type": "code",
   "execution_count": 12,
   "metadata": {},
   "outputs": [],
   "source": [
    "f = open(args['encodings'],'rb')\n",
    "data = pickle.loads(open(args[\"encodings\"], \"rb\").read())\n",
    "data = np.array(data)\n",
    "encoding_data = [d[\"encoding\"] for d in data]\n",
    "# encodings = np.array(encoding_data)\n",
    "# print(encodings.shape)"
   ]
  },
  {
   "cell_type": "code",
   "execution_count": 6,
   "metadata": {},
   "outputs": [
    {
     "name": "stdout",
     "output_type": "stream",
     "text": [
      "Clustering faces\n"
     ]
    },
    {
     "data": {
      "text/plain": [
       "DBSCAN(algorithm='auto', eps=0.5, leaf_size=30, metric='euclidean',\n",
       "    metric_params=None, min_samples=5, n_jobs=2, p=None)"
      ]
     },
     "execution_count": 6,
     "metadata": {},
     "output_type": "execute_result"
    }
   ],
   "source": [
    "print(\"Clustering faces\")\n",
    "model = DBSCAN(metric = 'euclidean' , n_jobs = args['jobs'])\n",
    "model.fit(encoding_data)"
   ]
  },
  {
   "cell_type": "code",
   "execution_count": null,
   "metadata": {},
   "outputs": [],
   "source": []
  }
 ],
 "metadata": {
  "kernelspec": {
   "display_name": "Python 3",
   "language": "python",
   "name": "python3"
  },
  "language_info": {
   "codemirror_mode": {
    "name": "ipython",
    "version": 3
   },
   "file_extension": ".py",
   "mimetype": "text/x-python",
   "name": "python",
   "nbconvert_exporter": "python",
   "pygments_lexer": "ipython3",
   "version": "3.6.4"
  }
 },
 "nbformat": 4,
 "nbformat_minor": 2
}
